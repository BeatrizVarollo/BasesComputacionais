{
  "nbformat": 4,
  "nbformat_minor": 0,
  "metadata": {
    "colab": {
      "provenance": [],
      "authorship_tag": "ABX9TyPZCsp2gxQX7inewsxKqul4",
      "include_colab_link": true
    },
    "kernelspec": {
      "name": "python3",
      "display_name": "Python 3"
    },
    "language_info": {
      "name": "python"
    }
  },
  "cells": [
    {
      "cell_type": "markdown",
      "metadata": {
        "id": "view-in-github",
        "colab_type": "text"
      },
      "source": [
        "<a href=\"https://colab.research.google.com/github/BeatrizVarollo/BasesComputacionais/blob/master/Tarefa3BeatrizVarollo.ipynb\" target=\"_parent\"><img src=\"https://colab.research.google.com/assets/colab-badge.svg\" alt=\"Open In Colab\"/></a>"
      ]
    },
    {
      "cell_type": "code",
      "execution_count": null,
      "metadata": {
        "id": "t-oWAs72ZQGZ"
      },
      "outputs": [],
      "source": []
    },
    {
      "cell_type": "markdown",
      "source": [
        "# Tarefa 3 \n",
        "\n",
        "Beatriz Estefano Varollo (11202231547)"
      ],
      "metadata": {
        "id": "lmpZVUPxZSb1"
      }
    },
    {
      "cell_type": "code",
      "source": [
        "Segundos_em_Hora = 60*60"
      ],
      "metadata": {
        "id": "TBb_UsoEZeEk"
      },
      "execution_count": 4,
      "outputs": []
    },
    {
      "cell_type": "code",
      "source": [
        "print(f'segundos em 1 hora e 30 minutos: {Segundos_em_Hora*1.5:.1f}')\n"
      ],
      "metadata": {
        "colab": {
          "base_uri": "https://localhost:8080/"
        },
        "id": "gmlXFtzLajEV",
        "outputId": "2736d439-84e2-4c75-cd7d-c55306b63b6c"
      },
      "execution_count": 13,
      "outputs": [
        {
          "output_type": "stream",
          "name": "stdout",
          "text": [
            "segundos em 1 hora e 30 minutos: 5400.0\n"
          ]
        }
      ]
    },
    {
      "cell_type": "code",
      "source": [
        "print(f'segundos em 12 horas: {Segundos_em_Hora*12:.1f}')\n"
      ],
      "metadata": {
        "colab": {
          "base_uri": "https://localhost:8080/"
        },
        "id": "Jo_84ddZbpKF",
        "outputId": "a0e239d1-7280-4eed-d52b-f791204f6911"
      },
      "execution_count": 14,
      "outputs": [
        {
          "output_type": "stream",
          "name": "stdout",
          "text": [
            "segundos em 12 horas: 43200.0\n"
          ]
        }
      ]
    },
    {
      "cell_type": "code",
      "source": [
        "print(f'segundos em 24 horas: {Segundos_em_Hora*24:.1f}')"
      ],
      "metadata": {
        "colab": {
          "base_uri": "https://localhost:8080/"
        },
        "id": "3dyAEc7hbzo8",
        "outputId": "6db2f406-d5a7-41ad-ce88-f87bddc8ea0e"
      },
      "execution_count": 15,
      "outputs": [
        {
          "output_type": "stream",
          "name": "stdout",
          "text": [
            "segundos em 24 horas: 86400.0\n"
          ]
        }
      ]
    }
  ]
}